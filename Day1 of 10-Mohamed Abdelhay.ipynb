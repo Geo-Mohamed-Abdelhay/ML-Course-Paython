{
 "cells": [
  {
   "cell_type": "markdown",
   "id": "9810f68c",
   "metadata": {},
   "source": [
    "# Mohamed Abdelhay 1st day of 10DaysChallenge"
   ]
  },
  {
   "cell_type": "markdown",
   "id": "931dca7d",
   "metadata": {},
   "source": [
    "# Data Loading and Manipulation"
   ]
  },
  {
   "cell_type": "markdown",
   "id": "6fccf0ae",
   "metadata": {},
   "source": [
    "## Kindly load the las file of F02-1_logs.las well from the data folder\n",
    "## Answer the following questions:\n",
    "\n",
    ">1. How many well logs in the file \n",
    "2. How many data points (observations) in the welllogs.\n",
    "3. Is there any null values? how much (%)/ well-log\n",
    "4. Is there a relationship between AI and PHIE? "
   ]
  },
  {
   "cell_type": "markdown",
   "id": "9ae3e8e0",
   "metadata": {},
   "source": [
    "### You can use the following liberaries for your assignment:\n",
    "> Numpy, Pandas, Matplotlib, seaborn, LASIO"
   ]
  },
  {
   "cell_type": "code",
   "execution_count": 1,
   "id": "270a4a24",
   "metadata": {},
   "outputs": [
    {
     "name": "stderr",
     "output_type": "stream",
     "text": [
      "WARNING: You are using pip version 21.1.1; however, version 21.1.3 is available.\n",
      "You should consider upgrading via the 'c:\\users\\gosmart\\appdata\\local\\programs\\python\\python39\\python.exe -m pip install --upgrade pip' command.\n"
     ]
    },
    {
     "name": "stdout",
     "output_type": "stream",
     "text": [
      "Requirement already satisfied: lasio in c:\\users\\gosmart\\appdata\\local\\programs\\python\\python39\\lib\\site-packages (0.29)\n",
      "Requirement already satisfied: numpy in c:\\users\\gosmart\\appdata\\local\\programs\\python\\python39\\lib\\site-packages (from lasio) (1.21.0)\n"
     ]
    }
   ],
   "source": [
    "# Importing Libraries\n",
    "import pandas as pd\n",
    "import numpy as np\n",
    "from IPython.display import display\n",
    "import matplotlib.pyplot as plt\n",
    "import seaborn as sb\n",
    "!pip install lasio\n",
    "import lasio"
   ]
  },
  {
   "cell_type": "code",
   "execution_count": 2,
   "id": "3262c4e3",
   "metadata": {},
   "outputs": [],
   "source": [
    "F02 = lasio.read(\"C:/Users/GoSmart/Documents/GitHub/d/10DaysChallenge/Dutch_F3_Logs/F02-1_logs.las\")"
   ]
  },
  {
   "cell_type": "code",
   "execution_count": 3,
   "id": "d10e93eb",
   "metadata": {},
   "outputs": [
    {
     "data": {
      "text/plain": [
       "['DEPTH', 'RHOB', 'DT', 'GR', 'AI', 'AI_REL', 'PHIE']"
      ]
     },
     "execution_count": 3,
     "metadata": {},
     "output_type": "execute_result"
    }
   ],
   "source": [
    "F02.keys()"
   ]
  },
  {
   "cell_type": "code",
   "execution_count": 4,
   "id": "83ca77b2",
   "metadata": {},
   "outputs": [
    {
     "name": "stdout",
     "output_type": "stream",
     "text": [
      "the number of curves 6\n"
     ]
    }
   ],
   "source": [
    "type(F02)\n",
    "df=F02.df()\n",
    "print ('the number of curves',df.shape[-1])"
   ]
  },
  {
   "cell_type": "code",
   "execution_count": 5,
   "id": "c4b5d6f1",
   "metadata": {
    "scrolled": true
   },
   "outputs": [
    {
     "name": "stdout",
     "output_type": "stream",
     "text": [
      "the number of data= 9680\n"
     ]
    }
   ],
   "source": [
    "print ('the number of data=',df.shape[0])"
   ]
  },
  {
   "cell_type": "code",
   "execution_count": 6,
   "id": "47970ad6",
   "metadata": {
    "scrolled": false
   },
   "outputs": [
    {
     "name": "stdout",
     "output_type": "stream",
     "text": [
      "the number of null value\n",
      "<class 'pandas.core.frame.DataFrame'>\n",
      "Float64Index: 9680 entries, 48.0 to 1499.8501\n",
      "Data columns (total 6 columns):\n",
      " #   Column  Non-Null Count  Dtype  \n",
      "---  ------  --------------  -----  \n",
      " 0   RHOB    8253 non-null   float64\n",
      " 1   DT      9680 non-null   float64\n",
      " 2   GR      9666 non-null   float64\n",
      " 3   AI      9680 non-null   float64\n",
      " 4   AI_REL  9680 non-null   float64\n",
      " 5   PHIE    4906 non-null   float64\n",
      "dtypes: float64(6)\n",
      "memory usage: 529.4 KB\n",
      "==================================================\n",
      "the persentage of null value\n"
     ]
    },
    {
     "data": {
      "text/plain": [
       "RHOB      1427\n",
       "DT           0\n",
       "GR          14\n",
       "AI           0\n",
       "AI_REL       0\n",
       "PHIE      4774\n",
       "dtype: int64"
      ]
     },
     "execution_count": 6,
     "metadata": {},
     "output_type": "execute_result"
    }
   ],
   "source": [
    "print ('the number of null value')\n",
    "df.info()\n",
    "print ('='*50)\n",
    "print ('the persentage of null value')\n",
    "df.isnull().sum()"
   ]
  },
  {
   "cell_type": "code",
   "execution_count": 8,
   "id": "fba3fb71",
   "metadata": {},
   "outputs": [
    {
     "name": "stdout",
     "output_type": "stream",
     "text": [
      "the Null Percentage\n"
     ]
    },
    {
     "data": {
      "text/plain": [
       "RHOB      14.741736\n",
       "DT         0.000000\n",
       "GR         0.144628\n",
       "AI         0.000000\n",
       "AI_REL     0.000000\n",
       "PHIE      49.318182\n",
       "dtype: float64"
      ]
     },
     "execution_count": 8,
     "metadata": {},
     "output_type": "execute_result"
    }
   ],
   "source": [
    "print ('the Null Percentage')\n",
    "df.isnull().sum()/ df.shape[0]*100 "
   ]
  },
  {
   "cell_type": "code",
   "execution_count": null,
   "id": "4f61ed59",
   "metadata": {},
   "outputs": [],
   "source": [
    "fig, ax = plt.subplots(figsize=(14,7))\n",
    "sb.heatmap(df.corr(), annot= True,linewidths=0.1);"
   ]
  },
  {
   "cell_type": "code",
   "execution_count": null,
   "id": "d25bb434",
   "metadata": {},
   "outputs": [],
   "source": [
    "plt.figure(figsize=(10,5))\n",
    "sb.regplot(data = df, x = 'AI', y = 'PHIE',color='r', fit_reg = True, line_kws={'color':'Blue'}, marker='o', logx=True)\n",
    "plt.title('AI vs PHIE plot ')\n",
    "plt.xlabel('AI')\n",
    "plt.ylabel('PHIE')\n",
    "plt.grid();"
   ]
  },
  {
   "cell_type": "code",
   "execution_count": null,
   "id": "5282fea1",
   "metadata": {},
   "outputs": [],
   "source": []
  }
 ],
 "metadata": {
  "kernelspec": {
   "display_name": "Python 3",
   "language": "python",
   "name": "python3"
  },
  "language_info": {
   "codemirror_mode": {
    "name": "ipython",
    "version": 3
   },
   "file_extension": ".py",
   "mimetype": "text/x-python",
   "name": "python",
   "nbconvert_exporter": "python",
   "pygments_lexer": "ipython3",
   "version": "3.9.5"
  }
 },
 "nbformat": 4,
 "nbformat_minor": 5
}
